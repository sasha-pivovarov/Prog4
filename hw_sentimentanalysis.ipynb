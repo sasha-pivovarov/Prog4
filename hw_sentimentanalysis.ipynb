{
 "cells": [
  {
   "cell_type": "code",
   "execution_count": 5,
   "metadata": {
    "collapsed": true
   },
   "outputs": [],
   "source": [
    "from sklearn.svm import SVC, LinearSVC\n",
    "from sklearn.feature_extraction.text import TfidfVectorizer\n",
    "from sklearn.metrics import classification_report\n",
    "from sklearn.pipeline import make_pipeline\n",
    "from sklearn.model_selection import GridSearchCV, train_test_split\n",
    "from sklearn.preprocessing import LabelEncoder\n",
    "from sklearn.decomposition import NMF\n",
    "from nltk.stem.snowball import SnowballStemmer\n",
    "import pickle\n",
    "import pandas as pd\n",
    "import numpy as np"
   ]
  },
  {
   "cell_type": "code",
   "execution_count": 3,
   "metadata": {},
   "outputs": [
    {
     "name": "stdout",
     "output_type": "stream",
     "text": [
      "             tweet_id airline_sentiment  airline  retweet_count  \\\n0  570306133677760513                 1        5              0   \n1  570301130888122368                 2        5              0   \n2  570301083672813571                 1        5              0   \n3  570301031407624196                 0        5              0   \n4  570300817074462722                 0        5              0   \n\n                                                text  \n0                @virginamerica what @dhepburn said.  \n1  @virginamerica plus you'v ad commerci to the e...  \n2  @virginamerica i didn't today... must mean i n...  \n3  @virginamerica it realli aggress to blast obno...  \n4  @virginamerica and it a realli big bad thing a...  \n"
     ]
    }
   ],
   "source": [
    "SEED = 1337\n",
    "\n",
    "df = pd.read_csv(\"Tweets.csv\")\n",
    "\n",
    "df.loc[df.airline_sentiment == 'negative', 'airline_sentiment'] = 0\n",
    "df.loc[df.airline_sentiment == 'neutral', 'airline_sentiment'] = 1\n",
    "df.loc[df.airline_sentiment == 'positive', 'airline_sentiment'] = 2\n",
    "airline_le = LabelEncoder()\n",
    "df['airline'] = airline_le.fit_transform(df.airline)\n",
    "stemmer = SnowballStemmer(\"english\")\n",
    "df[\"text\"] = df[\"text\"].apply(lambda x: \" \".join([stemmer.stem(y) for y in x.split()]))\n",
    "print(df.head())"
   ]
  },
  {
   "cell_type": "code",
   "execution_count": 6,
   "metadata": {},
   "outputs": [
    {
     "name": "stdout",
     "output_type": "stream",
     "text": [
      "Fitting model...\nFitting 3 folds for each of 24 candidates, totalling 72 fits\n"
     ]
    },
    {
     "name": "stderr",
     "output_type": "stream",
     "text": [
      "[Parallel(n_jobs=1)]: Done  72 out of  72 | elapsed: 29.2min finished\n"
     ]
    },
    {
     "name": "stdout",
     "output_type": "stream",
     "text": [
      "{'linearsvc__C': 0.5, 'linearsvc__random_state': 1337, 'tfidfvectorizer__analyzer': 'word', 'tfidfvectorizer__max_df': 0.8, 'tfidfvectorizer__min_df': 0.01, 'tfidfvectorizer__sublinear_tf': True, 'tfidfvectorizer__use_idf': True}\n"
     ]
    },
    {
     "name": "stdout",
     "output_type": "stream",
     "text": [
      "             precision    recall  f1-score   support\n\n          0       0.80      0.92      0.86      2294\n          1       0.61      0.47      0.53       775\n          2       0.72      0.53      0.61       591\n\navg / total       0.75      0.76      0.75      3660\n\n"
     ]
    }
   ],
   "source": [
    "pipe = make_pipeline(TfidfVectorizer(), NMF(), LinearSVC())\n",
    "params1 = {\n",
    "          \"tfidfvectorizer__min_df\": [0.01, 0.1],\n",
    "          \"tfidfvectorizer__max_df\": [0.6, 0.8],\n",
    "          \"tfidfvectorizer__sublinear_tf\": [True],\n",
    "          \"tfidfvectorizer__use_idf\": [True],\n",
    "          \"tfidfvectorizer__analyzer\": [\"word\", \"char\"],\n",
    "          #\"nmf__random_state\": [SEED],\n",
    "          #\"nmf__n_components\": [1000, None],\n",
    "          \"linearsvc__random_state\":[SEED],\n",
    "          \"linearsvc__C\": [0.5, 1.0, 5.0]\n",
    "          }\n",
    "model1 = GridSearchCV(pipe, param_grid=params1, verbose=True)\n",
    "\n",
    "y = df.airline_sentiment.values\n",
    "df_train, df_test, y_train, y_test = train_test_split(df, y, test_size=0.25, stratify=y, random_state=SEED, shuffle=True)\n",
    "print(\"Fitting model...\")\n",
    "model1.fit(df_train.text, y_train.astype(int))\n",
    "with open(\"model1.pkl\", \"wb\") as io:\n",
    "    pickle.dump(model1, io)\n",
    "print(model1.best_params_)\n",
    "y_pred = model1.predict(df_test.text)\n",
    "print(classification_report(y_test.astype(int), y_pred.astype(int)))"
   ]
  },
  {
   "cell_type": "code",
   "execution_count": null,
   "metadata": {},
   "outputs": [],
   "source": []
  }
 ],
 "metadata": {
  "kernelspec": {
   "display_name": "Python 2",
   "language": "python",
   "name": "python2"
  },
  "language_info": {
   "codemirror_mode": {
    "name": "ipython",
    "version": 2
   },
   "file_extension": ".py",
   "mimetype": "text/x-python",
   "name": "python",
   "nbconvert_exporter": "python",
   "pygments_lexer": "ipython2",
   "version": "2.7.6"
  }
 },
 "nbformat": 4,
 "nbformat_minor": 0
}
