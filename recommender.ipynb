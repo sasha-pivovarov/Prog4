{
 "cells": [
  {
   "cell_type": "code",
   "execution_count": null,
   "metadata": {
    "collapsed": true
   },
   "outputs": [],
   "source": [
    "from sklearn.datasets import fetch_20newsgroups\n",
    "from sklearn.decomposition import LatentDirichletAllocation, NMF, TruncatedSVD\n"
   ]
  },
  {
   "cell_type": "code",
   "execution_count": null,
   "metadata": {},
   "outputs": [],
   "source": [
    "class NewsRecommender:\n",
    "    \"\"\"\n",
    "    обучить систему на корпусе текстов  с помощью тематической модели и метрики, выбранных в результате исследования\n",
    "    \"\"\"\n",
    "    def __init__(self):\n",
    "        self.model = None\n",
    "     \n",
    "    def train(self, texts, n_topics=15):\n",
    "        # texts = fetch_20newsgroups()\n",
    "        lda = LatentDirichletAllocation(n_components=n_topics, learning_method=\"batch\")\n",
    "        lda.fit(texts)\n",
    "    \n",
    "    \n",
    "    \"\"\"\n",
    "    выдать k самых пожих новостей для заданного заголовка по функции расстояния, выбранной в результате исследования\n",
    "    обратите внимание, что text_sample может содержать слова не из обучающего корпуса\n",
    "    \"\"\"\n",
    "    def recommend(self, text_sample, k):\n",
    "        return [\"news_1\", \"news_2\", ... , \"news_k\"]"
   ]
  }
 ],
 "metadata": {
  "kernelspec": {
   "display_name": "Python 2",
   "language": "python",
   "name": "python2"
  },
  "language_info": {
   "codemirror_mode": {
    "name": "ipython",
    "version": 2
   },
   "file_extension": ".py",
   "mimetype": "text/x-python",
   "name": "python",
   "nbconvert_exporter": "python",
   "pygments_lexer": "ipython2",
   "version": "2.7.6"
  }
 },
 "nbformat": 4,
 "nbformat_minor": 0
}
